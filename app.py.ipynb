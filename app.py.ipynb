{
 "cells": [
  {
   "cell_type": "code",
   "execution_count": 1,
   "id": "457ee1cc",
   "metadata": {},
   "outputs": [
    {
     "name": "stdout",
     "output_type": "stream",
     "text": [
      "Requirement already satisfied: nltk in d:\\anacoda\\lib\\site-packages (3.8.1)\n",
      "Requirement already satisfied: click in d:\\anacoda\\lib\\site-packages (from nltk) (8.0.4)\n",
      "Requirement already satisfied: joblib in d:\\anacoda\\lib\\site-packages (from nltk) (1.2.0)\n",
      "Requirement already satisfied: regex>=2021.8.3 in d:\\anacoda\\lib\\site-packages (from nltk) (2022.7.9)\n",
      "Requirement already satisfied: tqdm in d:\\anacoda\\lib\\site-packages (from nltk) (4.65.0)\n",
      "Requirement already satisfied: colorama in d:\\anacoda\\lib\\site-packages (from click->nltk) (0.4.6)\n",
      "Note: you may need to restart the kernel to use updated packages.\n"
     ]
    }
   ],
   "source": [
    "pip install nltk\n"
   ]
  },
  {
   "cell_type": "code",
   "execution_count": 2,
   "id": "7b06f6e8",
   "metadata": {},
   "outputs": [],
   "source": [
    "import pandas as pd\n",
    "from sklearn.feature_extraction.text import TfidfVectorizer\n",
    "from sklearn.metrics.pairwise import cosine_similarity\n"
   ]
  },
  {
   "cell_type": "code",
   "execution_count": 4,
   "id": "e7eb8f2a",
   "metadata": {},
   "outputs": [],
   "source": [
    "data = {\n",
    "    'English': [\n",
    "        'Hello', 'How are you?', 'Welcome', 'Thank you', 'Good morning', 'Goodbye', 'Yes', 'No', 'I love you',\n",
    "        'What is your name?', 'How old are you?', 'Where are you from?', 'What do you do?', 'How do you do?',\n",
    "        'Nice to meet you', 'Excuse me', 'I\\'m sorry', 'Please', 'Help me', 'I don\\'t understand',\n",
    "        'Can you help me?', 'Where is the restroom?', 'How much does it cost?', 'I\\'m hungry', 'I\\'m thirsty',\n",
    "        'I\\'m tired', 'I\\'m bored', 'What time is it?', 'Can we talk?', 'I miss you', 'Good night', 'See you later',\n",
    "        'Can I have the bill, please?', 'What\\'s your phone number?', 'What\\'s your email address?', 'Where do you live?',\n",
    "        'Do you speak English?', 'What does that mean?', 'How do you say this in Kannada?', 'Can you repeat that, please?',\n",
    "        'Can you speak slowly?', 'What\\'s the weather like today?', 'How do I get to the airport?', 'I need a doctor',\n",
    "        'Call the police!', 'Where is the nearest hospital?', 'I\\'m lost', 'Can you show me on the map?',\n",
    "        'I\\'m here for business', 'I\\'m on vacation', 'Happy birthday!', 'Merry Christmas!', 'Happy New Year!',\n",
    "        'Congratulations!', 'I\\'m so happy for you', 'I\\'m sorry for your loss', 'Have a nice day', 'Take care',\n",
    "        'Don\\'t worry', 'Everything will be okay', 'I\\'m proud of you', 'You\\'re the best!', 'I\\'m here for you',\n",
    "        'You can do it!', 'I believe in you', 'Never give up', 'Follow your dreams', 'You inspire me', 'Thank you for everything',\n",
    "        'You\\'re welcome', 'Sorry for the inconvenience', 'I\\'ll be back soon', 'Let\\'s meet again soon', 'I\\'m looking forward to it',\n",
    "        'I\\'m so excited!', 'I can\\'t wait!', 'This is amazing!', 'I\\'m impressed', 'That\\'s incredible', 'You\\'re amazing',\n",
    "        'You\\'re awesome!', 'I\\'m speechless', 'I\\'m really grateful', 'I\\'m touched', 'I\\'m feeling lucky', 'I\\'m feeling blessed',\n",
    "        'It\\'s a pleasure to meet you', 'You\\'re very kind', 'You\\'re so generous', 'You\\'re so thoughtful', 'You\\'re so talented',\n",
    "        'You\\'re so creative', 'You\\'re so smart', 'You\\'re so beautiful', 'You\\'re so handsome', 'You\\'re so charming',\n",
    "        'You\\'re so funny', 'You\\'re so sweet', 'You\\'re so caring', 'You\\'re so loving', 'You\\'re so supportive',\n",
    "        'You mean the world to me', 'I appreciate you', 'You make me happy', 'You make me smile', 'You make me laugh',\n",
    "        'You make me feel special', 'You\\'re my best friend', 'You\\'re my soulmate', 'I\\'m so lucky to have you'\n",
    "    ],\n",
    "    'Kannada': [\n",
    "        'ನಮಸ್ತೆ', 'ಹೇಗಿದ್ದೀರಿ', 'ಸ್ವಾಗತ', 'ಧನ್ಯವಾದಗಳು', 'ಶುಭೋದಯ', 'ಬೈ', 'ಹೌದು', 'ಇಲ್ಲ', 'ನಾನು ನಿನ್ನನ್ನು ಪ್ರೀತಿಸುತ್ತೇನೆ',\n",
    "        'ನಿಮ್ಮ ಹೆಸರೇನು?', 'ನೀವು ಎಷ್ಟು ವರ್ಷದವರು?', 'ನೀವು ಎಲ್ಲಿಂದ ಬಂದಿದ್ದೀರಿ?', 'ನೀವು ಏನು ಮಾಡುತ್ತಿದ್ದೀರಿ?',\n",
    "        'ಹೇಗಿದೆಯಾ?', 'ನಿನ್ನ ಭಾರತೀಯ ಹೆಸರೇನು?', 'ಕ್ಷಮಿಸಿ', 'ದಯವಿಟ್ಟು', 'ನನಗೆ ಸಹಾಯ ಮಾಡಿ', 'ನಾನು ಅರ್ಥಮಾಡಲು ಆಗುತ್ತಿಲ್ಲ',\n",
    "        'ನೀವು ನನಗೆ ಸಹಾಯ ಮಾಡಬಹುದೇ?', 'ಶೌಚಾಲಯ ಎಲ್ಲಿದೆ?', 'ಇದು ಎಷ್ಟು ಖರ್ಚಾಗುತ್ತದೆ?', 'ನಾನು ಹಸಿವಾಗಿದ್ದೇನೆ', 'ನಾನು ಬಾಯಾರಿಸುತ್ತಿದ್ದೇನೆ',\n",
    "        'ನಾನು ಕೊಪ್ಪಿದ್ದೇನೆ', 'ನಾನು ಬೋರ್ಡ್ ಆಗಿದ್ದೇನೆ', 'ಇದು ಎಷ್ಟು ಗಂಟೆ?', 'ನಾವು ಮಾತನಾಡಬಹುದು?', 'ನನಗೆ ನಿನ್ನನ್ನು ಬಹುವಾಗಿ ಕಾಣಿಸಿಕೊಳ್ಳುತ್ತದೆ',\n",
    "        'ಶುಭ ರಾತ್ರಿ', 'ನನಗೆ ನಿನ್ನ ಸಂದೇಶ ಬೇಡು', 'ಬೆರಗು', 'ಕಾಣುತ್ತೇನೆ ನಂತರ', 'ದಯವಿಟ್ಟು ಬಿಲ್ಲು ತರಿಸಿ', 'ನಿಮ್ಮ ಫೋನ್ ನಂಬರ್ ಏನು?', 'ನಿಮ್ಮ ಇಮೇಲ್ ವಿಳಾಸ್ ಏನು?',\n",
    "        'ನೀವು ಎಲ್ಲಿ ವಾಸವಾಗಿದ್ದೀರಿ?', 'ನೀವು ಇಂಗ್ಲಿಷ್ ಮಾತನಾಡಬಲ್ಲಿರಾ?', 'ಅದು ಏನನ್ನು ಅರ್ಥಮಾಡುತ್ತದೆ?', 'ಇದನ್ನು ಕನ್ನಡದಲ್ಲಿ ಹೇಗೆ ಹೇಳುತ್ತಾರೆ?', 'ದಯವಿಟ್ಟು ಅದನ್ನು ಮರುಪ್ರಯತ್ನಿಸಿ',\n",
    "        'ದಯವಿಟ್ಟು ನಿಧಾನವಾಗಿ ಮಾತನಾಡಿ', 'ಇಂದ ಹವಾಮಾನ ಹೇಗಿದೆ?', 'ನಾನು ಏರ್ಪಾಡಾಗಿದ್ದೇನೆ', 'ನಾನು ಹುಟ್ಟುಹಬ್ಬದ ದಿನ', 'ಹೊಸ ವರ್ಷದ ಹಾರ್ದಿಕ ಶುಭಾಶಯಗಳು!', 'ಅಭಿನಂದನೆಗಳು!',\n",
    "        'ನಾನು ನಿಮಗೆ ಹೆಚ್ಚು ಖುಷಿಯಾಗಿದ್ದೇನೆ', 'ನಾನು ನಿಮಗೆ ವಿನಾಯಿತಿ ಹೇಳುತ್ತಿದ್ದೇನೆ', 'ನಿಮ್ಮ ನಷ್ಟದ ಹಾರು', 'ಒಳ್ಳೆಯ ದಿನವನ್ನು ಕಳೆಯಿರಿ', 'ಜಾಗರೂಕತೆ ಇರಿ',\n",
    "        'ಚಿಂತೆ ಇಲ್ಲ', 'ಎಲ್ಲವೂ ಚೆನ್ನಾಗಿಯೇ ಇರುತ್ತದೆ', 'ನಾನು ನಿಮಗೆ ಹೆಮ್ಮೆಪಡುತ್ತೇನೆ', 'ನೀವು ಸರ್ವಶ್ರೇಷ್ಠರು!', 'ನಾನು ನಿಮಗೆ ಹೆಚ್ಚು ಖುಷಿಯಾಗಿದ್ದೇನೆ',\n",
    "        'ನೀವು ಮಾಡಬಲ್ಲಿದ್ದು', 'ನೀವು ನನ್ನನ್ನು ನಂಬಿದ್ದೀರಿ', 'ಎಂದೆಂದಿಗೂ ಬಿಡಬೇಡಿ', 'ನಿಮ್ಮ ಕನಸುಗಳನ್ನು ಅನುಸರಿಸಿ', 'ನೀವು ನನಗೆ ಒಂದುಗೂಡಿ', 'ನನಗೆ ನಿಮ್ಮಿಂದ ಸಾಹಸ ಪ್ರಾಪ್ತವಾಗುತ್ತದೆ',\n",
    "        'ಸರಿ ನಿಮಗೆ ನನ್ನ ಉತ್ಸಾಹವನ್ನು ಪ್ರದರ್ಶಿಸಬಲ್ಲೆ', 'ಕಾಯದಿಯನ್ನು ನಿರ್ವಹಿಸಲು ನಾನು ಸಿದ್ಧನಿದ್ದೇನೆ', 'ನಾನು ಅತ್ಯಂತ ಉತ್ಸುಕನಾಗಿದ್ದೇನೆ!', 'ನಾನು ಕಾಯಬಾರದು!', 'ಇದು ಅದ್ಭುತವಾಗಿದೆ!', 'ನಾನು ಪ್ರಭಾವಿತನಾಗಿದ್ದೇನೆ', 'ಅದು ಅತ್ಯಂತ ಅದ್ಭುತ', 'ಅದು ಅತ್ಯಂತ ಸಂತೋಷದ', 'ನೀವು ಅದ್ಭುತರು',\n",
    "        'ನೀವು ಉತ್ತಮರು!', 'ನಾನು ಮಾತನಾಡಲು ಸಾಹಸ ಹೊಂದಿದ್ದೇನೆ', 'ನೀವು ಅತ್ಯಂತ ಉತ್ತಮರು', 'ನೀವು ಅತ್ಯಂತ ಸಹಾನುಭೂತಿಯವರು', 'ನೀವು ಅತ್ಯಂತ ಪ್ರೀತಿಯವರು', 'ನೀವು ಅತ್ಯಂತ ಸಂತೋಷದವರು', 'ನೀವು ಅತ್ಯಂತ ಪ್ರೇಮದಿಂದ ತುಂಬಿದವರು', 'ನೀವು ಅತ್ಯಂತ ಬುದ್ಧಿವಂತರು',\n",
    "        'ನೀವು ಅತ್ಯಂತ ಸುಂದರರು', 'ನೀವು ಅತ್ಯಂತ ಸುಂದರರು', 'ನೀವು ಅತ್ಯಂತ ಮನೋಹರರು', 'ನೀವು ಅತ್ಯಂತ ಹಾಸ್ಯಾಸ್ಪದರು', 'ನೀವು ಅತ್ಯಂತ ಮಿಷ್ಟಿಯವರು', 'ನೀವು ಅತ್ಯಂತ ದಯಾಳುಗಳು', 'ನೀವು ಅತ್ಯಂತ ಪ್ರೀತಿಯವರು', 'ನೀವು ಅತ್ಯಂತ ಪ್ರೀತಿಯವರು', 'ನೀವು ಅತ್ಯಂತ ಪ್ರೀತಿಯವರು', 'ನೀವು ಅತ್ಯಂತ ಪ್ರೀತಿಯವರು'\n",
    "    ]\n",
    "}\n",
    "# Find the length of the shortest array\n",
    "min_length = min(len(array) for array in data.values())\n",
    "\n",
    "# Truncate the longer arrays to match the shortest array\n",
    "for key, array in data.items():\n",
    "    if len(array) > min_length:\n",
    "        data[key] = array[:min_length]\n",
    "df = pd.DataFrame(data)\n"
   ]
  },
  {
   "cell_type": "code",
   "execution_count": 5,
   "id": "e0c362a0",
   "metadata": {},
   "outputs": [],
   "source": [
    "# Convert English phrases to lowercase\n",
    "df['English'] = df['English'].apply(lambda x: x.lower())\n",
    "\n",
    "# Initialize TF-IDF Vectorizer\n",
    "tfidf_vectorizer = TfidfVectorizer()\n",
    "\n",
    "# Fit and transform the English phrases\n",
    "tfidf_matrix = tfidf_vectorizer.fit_transform(df['English'])\n",
    "\n",
    "# Compute similarity matrix\n",
    "cosine_sim = cosine_similarity(tfidf_matrix, tfidf_matrix)\n"
   ]
  },
  {
   "cell_type": "code",
   "execution_count": 6,
   "id": "46ccb49d",
   "metadata": {},
   "outputs": [],
   "source": [
    "def get_response(user_input):\n",
    "    user_input = user_input.lower()\n",
    "    max_sim = -1\n",
    "    max_sim_index = -1\n",
    "    \n",
    "    for index, phrase in enumerate(df['English']):\n",
    "        sim = cosine_sim[index][tfidf_vectorizer.vocabulary_[user_input]]\n",
    "        if sim > max_sim:\n",
    "            max_sim = sim\n",
    "            max_sim_index = index\n",
    "    \n",
    "    if max_sim_index != -1:\n",
    "        return df['Kannada'][max_sim_index]\n",
    "    else:\n",
    "        return \"ಕ್ಷಮಿಸಿ, ನಾನು ಅರ್ಥಮಾಡಲು ಆಗಲಿಲ್ಲ.\"\n"
   ]
  },
  {
   "cell_type": "code",
   "execution_count": null,
   "id": "326a1acf",
   "metadata": {},
   "outputs": [],
   "source": [
    "\n",
    "\n",
    "user_input = input(\"Enter your message in English: \")\n",
    "response = get_response(user_input)\n",
    "print(\"Response in Kannada:\", response)\n"
   ]
  },
  {
   "cell_type": "code",
   "execution_count": 11,
   "id": "3f159d20",
   "metadata": {},
   "outputs": [
    {
     "name": "stdout",
     "output_type": "stream",
     "text": [
      "Enter your message in English (or type 'exit' to quit): How are you\n",
      "Response in Kannada: ಹೇಗಿದ್ದೀರಿ\n",
      "Enter your message in English (or type 'exit' to quit): what is time\n",
      "Response in Kannada: ನಿಮ್ಮ ಹೆಸರೇನು?\n",
      "Enter your message in English (or type 'exit' to quit): Iam sorry\n",
      "Response in Kannada: ದಯವಿಟ್ಟು\n",
      "Enter your message in English (or type 'exit' to quit): what is your name\n",
      "Response in Kannada: ನಿಮ್ಮ ಹೆಸರೇನು?\n",
      "Enter your message in English (or type 'exit' to quit): exit\n",
      "Thank you for using the translation service. Goodbye!\n"
     ]
    }
   ],
   "source": []
  },
  {
   "cell_type": "code",
   "execution_count": null,
   "id": "210733f5",
   "metadata": {},
   "outputs": [],
   "source": [
    "# Create a new directory for your Flask project\n",
    "mkdir my_flask_app\n",
    "\n",
    "# Move your main Python file (app.py) into the project directory\n",
    "mv app.py my_flask_app/\n",
    "\n",
    "# Navigate into the project directory\n",
    "cd my_flask_app\n",
    "\n",
    "# (Optional) Create directories for HTML templates and static files\n",
    "mkdir templates\n",
    "mkdir static\n"
   ]
  },
  {
   "cell_type": "code",
   "execution_count": null,
   "id": "c196bcdf",
   "metadata": {},
   "outputs": [],
   "source": []
  }
 ],
 "metadata": {
  "kernelspec": {
   "display_name": "Python 3 (ipykernel)",
   "language": "python",
   "name": "python3"
  },
  "language_info": {
   "codemirror_mode": {
    "name": "ipython",
    "version": 3
   },
   "file_extension": ".py",
   "mimetype": "text/x-python",
   "name": "python",
   "nbconvert_exporter": "python",
   "pygments_lexer": "ipython3",
   "version": "3.11.5"
  }
 },
 "nbformat": 4,
 "nbformat_minor": 5
}
